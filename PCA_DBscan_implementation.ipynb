{
  "nbformat": 4,
  "nbformat_minor": 5,
  "metadata": {
    "kernelspec": {
      "display_name": "Python 3",
      "language": "python",
      "name": "python3"
    },
    "language_info": {
      "codemirror_mode": {
        "name": "ipython",
        "version": 3
      },
      "file_extension": ".py",
      "mimetype": "text/x-python",
      "name": "python",
      "nbconvert_exporter": "python",
      "pygments_lexer": "ipython3",
      "version": "3.8.10"
    },
    "colab": {
      "name": "pca_dbscan.ipynb",
      "provenance": []
    }
  },
  "cells": [
    {
      "cell_type": "markdown",
      "metadata": {
        "id": "ee3179cb"
      },
      "source": [
        "## PCA"
      ],
      "id": "ee3179cb"
    },
    {
      "cell_type": "code",
      "metadata": {
        "id": "bc71fd7a"
      },
      "source": [
        "import pandas as pd\n",
        "import numpy as np\n",
        "import matplotlib.pyplot as plt"
      ],
      "id": "bc71fd7a",
      "execution_count": null,
      "outputs": []
    },
    {
      "cell_type": "code",
      "metadata": {
        "id": "0c661d99",
        "outputId": "990e558d-3494-49df-c397-17da25e370a2"
      },
      "source": [
        "df = pd.read_csv('pca_data.csv')\n",
        "print(df.shape)\n",
        "print(df.head(3))"
      ],
      "id": "0c661d99",
      "execution_count": null,
      "outputs": [
        {
          "name": "stdout",
          "output_type": "stream",
          "text": [
            "(227, 20)\n",
            "     0    1           2          3      4     5      6       7       8     9  \\\n",
            "0  0.0  0.0  31056997.0   647500.0   48.0  0.00  23.06  163.07   700.0  36.0   \n",
            "1  1.0  3.0   3581655.0    28748.0  124.6  1.26  -4.93   21.52  4500.0  86.5   \n",
            "2  2.0  6.0  32930091.0  2381740.0   13.8  0.04  -0.39   31.00  6000.0  70.0   \n",
            "\n",
            "     10     11    12     13   14     15     16     17     18     19  \n",
            "0   3.2  12.13  0.22  87.65  1.0  46.60  20.34  0.380  0.240  0.380  \n",
            "1  71.2  21.09  4.42  74.49  3.0  15.11   5.22  0.232  0.188  0.579  \n",
            "2  78.1   3.22  0.25  96.53  1.0  17.14   4.61  0.101  0.600  0.298  \n"
          ]
        }
      ]
    },
    {
      "cell_type": "code",
      "metadata": {
        "id": "5a76b237"
      },
      "source": [
        "m = np.mean(df.T, axis=1)\n",
        "std = np.std(df.T, axis=1)\n",
        "\n",
        "c = (df - m)/std\n",
        "#print(c)\n",
        "\n",
        "v = np.cov(c.T)\n",
        "#print(v)\n",
        "#print(v.shape)\n",
        "\n",
        "values, vectors = np.linalg.eig(v)\n",
        "#print(vectors)\n",
        "#print(len(values))\n",
        "\n",
        "p = vectors.T.dot(c.T)\n",
        "#print(p.T)"
      ],
      "id": "5a76b237",
      "execution_count": null,
      "outputs": []
    },
    {
      "cell_type": "code",
      "metadata": {
        "id": "e8ce83e7",
        "outputId": "c82aa9d0-11e7-44c2-90a1-9381fe98e1dd"
      },
      "source": [
        "norm = values/np.sum(values)\n",
        "y = norm.cumsum()\n",
        "plt.bar(list(range(1,21)),y)\n",
        "plt.xlabel('n_components')\n",
        "plt.ylabel('varience')"
      ],
      "id": "e8ce83e7",
      "execution_count": null,
      "outputs": [
        {
          "data": {
            "text/plain": [
              "Text(0, 0.5, 'varience')"
            ]
          },
          "execution_count": 128,
          "metadata": {},
          "output_type": "execute_result"
        },
        {
          "data": {
            "image/png": "[encoded data removed]",
            "text/plain": [
              "<Figure size 432x288 with 1 Axes>"
            ]
          },
          "metadata": {
            "needs_background": "light"
          },
          "output_type": "display_data"
        }
      ]
    },
    {
      "cell_type": "code",
      "metadata": {
        "id": "9c1a8f1e",
        "outputId": "621003e9-d7eb-49ce-a5fc-dd2eaa0a1f62"
      },
      "source": [
        "p = vectors[:,:13].T.dot(c.T)\n",
        "print(p.shape)\n",
        "print(p)"
      ],
      "id": "9c1a8f1e",
      "execution_count": null,
      "outputs": [
        {
          "name": "stdout",
          "output_type": "stream",
          "text": [
            "(13, 227)\n",
            "[[ 5.16455495 -0.32756775  1.12306897 ...  3.0160129   2.9704789\n",
            "   1.82210815]\n",
            " [-2.33282299  1.47708147 -1.81296605 ... -1.38056027 -0.90895415\n",
            "  -0.72990903]\n",
            " [-0.01526534  0.33833045  2.03011183 ...  0.57846673 -0.53200195\n",
            "  -0.63186991]\n",
            " ...\n",
            " [ 0.94940172 -0.47995943 -0.12405867 ...  0.27739052  0.26525716\n",
            "   0.53619328]\n",
            " [ 2.36753852 -0.26619982 -0.35966781 ... -0.65462443  0.61056916\n",
            "   0.87092737]\n",
            " [ 1.12362228 -0.19753652 -1.15467134 ...  0.27018761  0.86925301\n",
            "   0.93032818]]\n"
          ]
        }
      ]
    },
    {
      "cell_type": "code",
      "metadata": {
        "id": "981d766e"
      },
      "source": [
        "pd.DataFrame(p).to_csv(\"pca_out.csv\", index=False)"
      ],
      "id": "981d766e",
      "execution_count": null,
      "outputs": []
    },
    {
      "cell_type": "markdown",
      "metadata": {
        "id": "8901e9d4"
      },
      "source": [
        "## DBSCAN"
      ],
      "id": "8901e9d4"
    },
    {
      "cell_type": "code",
      "metadata": {
        "id": "5e7f7e72",
        "outputId": "765a6c7f-e617-4644-9d81-955fa121e73e"
      },
      "source": [
        "mins = 3\n",
        "nn = NearestNeighbors(mins + 1)\n",
        "nn.fit(df)\n",
        "distances, neighbors = nn.kneighbors(df)\n",
        "distances = np.sort(distances[:, mins], axis = 0)\n",
        "plt.plot(list(range(0,len(distances))), distances)"
      ],
      "id": "5e7f7e72",
      "execution_count": null,
      "outputs": [
        {
          "name": "stderr",
          "output_type": "stream",
          "text": [
            "C:\\Users\\Marwan\\miniconda3\\lib\\site-packages\\sklearn\\utils\\validation.py:70: FutureWarning: Pass n_neighbors=4 as keyword args. From version 1.0 (renaming of 0.25) passing these as positional arguments will result in an error\n",
            "  warnings.warn(f\"Pass {args_msg} as keyword args. From version \"\n"
          ]
        },
        {
          "data": {
            "text/plain": [
              "[<matplotlib.lines.Line2D at 0x1bf84204100>]"
            ]
          },
          "execution_count": 131,
          "metadata": {},
          "output_type": "execute_result"
        },
        {
          "data": {
            "image/png": "[encoded data removed]",
            "text/plain": [
              "<Figure size 432x288 with 1 Axes>"
            ]
          },
          "metadata": {
            "needs_background": "light"
          },
          "output_type": "display_data"
        }
      ]
    },
    {
      "cell_type": "code",
      "metadata": {
        "id": "251c593f",
        "outputId": "0dc1f044-162f-453d-b053-628886632d6e"
      },
      "source": [
        "mins = 4\n",
        "nn = NearestNeighbors(mins + 1)\n",
        "nn.fit(df)\n",
        "distances, neighbors = nn.kneighbors(df)\n",
        "distances = np.sort(distances[:, mins], axis = 0)\n",
        "plt.plot(list(range(0,len(distances))), distances)"
      ],
      "id": "251c593f",
      "execution_count": null,
      "outputs": [
        {
          "name": "stderr",
          "output_type": "stream",
          "text": [
            "C:\\Users\\Marwan\\miniconda3\\lib\\site-packages\\sklearn\\utils\\validation.py:70: FutureWarning: Pass n_neighbors=5 as keyword args. From version 1.0 (renaming of 0.25) passing these as positional arguments will result in an error\n",
            "  warnings.warn(f\"Pass {args_msg} as keyword args. From version \"\n"
          ]
        },
        {
          "data": {
            "text/plain": [
              "[<matplotlib.lines.Line2D at 0x1bf841b7430>]"
            ]
          },
          "execution_count": 142,
          "metadata": {},
          "output_type": "execute_result"
        },
        {
          "data": {
            "image/png": "[encoded data removed]",
            "text/plain": [
              "<Figure size 432x288 with 1 Axes>"
            ]
          },
          "metadata": {
            "needs_background": "light"
          },
          "output_type": "display_data"
        }
      ]
    },
    {
      "cell_type": "code",
      "metadata": {
        "id": "3e626a86",
        "outputId": "02a0ba7c-d0a6-411f-9cf9-1ffaf1ffbc27"
      },
      "source": [
        "mins = 5\n",
        "nn = NearestNeighbors(mins + 1)\n",
        "nn.fit(df)\n",
        "distances, neighbors = nn.kneighbors(df)\n",
        "distances = np.sort(distances[:, mins], axis = 0)\n",
        "plt.plot(list(range(0,len(distances))), distances)"
      ],
      "id": "3e626a86",
      "execution_count": null,
      "outputs": [
        {
          "name": "stderr",
          "output_type": "stream",
          "text": [
            "C:\\Users\\Marwan\\miniconda3\\lib\\site-packages\\sklearn\\utils\\validation.py:70: FutureWarning: Pass n_neighbors=6 as keyword args. From version 1.0 (renaming of 0.25) passing these as positional arguments will result in an error\n",
            "  warnings.warn(f\"Pass {args_msg} as keyword args. From version \"\n"
          ]
        },
        {
          "data": {
            "text/plain": [
              "[<matplotlib.lines.Line2D at 0x1bf8437c5e0>]"
            ]
          },
          "execution_count": 143,
          "metadata": {},
          "output_type": "execute_result"
        },
        {
          "data": {
            "image/png": "[encoded data removed]",
            "text/plain": [
              "<Figure size 432x288 with 1 Axes>"
            ]
          },
          "metadata": {
            "needs_background": "light"
          },
          "output_type": "display_data"
        }
      ]
    },
    {
      "cell_type": "code",
      "metadata": {
        "id": "3d239318",
        "outputId": "5fc885b8-1e36-4396-dc16-e51260ec83a9"
      },
      "source": [
        "from sklearn.metrics import silhouette_score\n",
        "from sklearn.cluster import DBSCAN\n",
        "from sklearn.preprocessing import StandardScaler\n",
        "z = StandardScaler()\n",
        "df = z.fit_transform(df)\n",
        "print(silhouette_score(df, DBSCAN(min_samples=3,eps=5).fit(df).labels_))\n",
        "print(silhouette_score(df, DBSCAN(min_samples=4,eps=5).fit(df).labels_))\n",
        "print(silhouette_score(df, DBSCAN(min_samples=5,eps=5).fit(df).labels_))"
      ],
      "id": "3d239318",
      "execution_count": null,
      "outputs": [
        {
          "name": "stdout",
          "output_type": "stream",
          "text": [
            "0.5036276274829606\n",
            "0.5036276274829606\n",
            "0.48760394940085533\n"
          ]
        }
      ]
    },
    {
      "cell_type": "code",
      "metadata": {
        "id": "b0a75012",
        "outputId": "97c00d70-b8ab-47c1-9ea4-76c0659044dc"
      },
      "source": [
        "pca = pd.read_csv('pca_out.csv')\n",
        "pca.head()"
      ],
      "id": "b0a75012",
      "execution_count": null,
      "outputs": [
        {
          "data": {
            "text/html": [
              "<div>\n",
              "<style scoped>\n",
              "    .dataframe tbody tr th:only-of-type {\n",
              "        vertical-align: middle;\n",
              "    }\n",
              "\n",
              "    .dataframe tbody tr th {\n",
              "        vertical-align: top;\n",
              "    }\n",
              "\n",
              "    .dataframe thead th {\n",
              "        text-align: right;\n",
              "    }\n",
              "</style>\n",
              "<table border=\"1\" class=\"dataframe\">\n",
              "  <thead>\n",
              "    <tr style=\"text-align: right;\">\n",
              "      <th></th>\n",
              "      <th>0</th>\n",
              "      <th>1</th>\n",
              "      <th>2</th>\n",
              "      <th>3</th>\n",
              "      <th>4</th>\n",
              "      <th>5</th>\n",
              "      <th>6</th>\n",
              "      <th>7</th>\n",
              "      <th>8</th>\n",
              "      <th>9</th>\n",
              "      <th>...</th>\n",
              "      <th>217</th>\n",
              "      <th>218</th>\n",
              "      <th>219</th>\n",
              "      <th>220</th>\n",
              "      <th>221</th>\n",
              "      <th>222</th>\n",
              "      <th>223</th>\n",
              "      <th>224</th>\n",
              "      <th>225</th>\n",
              "      <th>226</th>\n",
              "    </tr>\n",
              "  </thead>\n",
              "  <tbody>\n",
              "    <tr>\n",
              "      <th>0</th>\n",
              "      <td>5.164555</td>\n",
              "      <td>-0.327568</td>\n",
              "      <td>1.123069</td>\n",
              "      <td>-0.444437</td>\n",
              "      <td>-2.161426</td>\n",
              "      <td>5.357731</td>\n",
              "      <td>-1.941658</td>\n",
              "      <td>-1.788736</td>\n",
              "      <td>-1.102273</td>\n",
              "      <td>-0.528663</td>\n",
              "      <td>...</td>\n",
              "      <td>1.588816</td>\n",
              "      <td>-0.344694</td>\n",
              "      <td>0.261842</td>\n",
              "      <td>-2.259023</td>\n",
              "      <td>1.117969</td>\n",
              "      <td>-0.223322</td>\n",
              "      <td>0.852745</td>\n",
              "      <td>3.016013</td>\n",
              "      <td>2.970479</td>\n",
              "      <td>1.822108</td>\n",
              "    </tr>\n",
              "    <tr>\n",
              "      <th>1</th>\n",
              "      <td>-2.332823</td>\n",
              "      <td>1.477081</td>\n",
              "      <td>-1.812966</td>\n",
              "      <td>2.134708</td>\n",
              "      <td>-1.792582</td>\n",
              "      <td>-2.223606</td>\n",
              "      <td>-1.894730</td>\n",
              "      <td>0.659299</td>\n",
              "      <td>-0.542356</td>\n",
              "      <td>1.188546</td>\n",
              "      <td>...</td>\n",
              "      <td>-0.102691</td>\n",
              "      <td>-0.918362</td>\n",
              "      <td>0.955975</td>\n",
              "      <td>0.216920</td>\n",
              "      <td>1.411925</td>\n",
              "      <td>1.995161</td>\n",
              "      <td>-1.606540</td>\n",
              "      <td>-1.380560</td>\n",
              "      <td>-0.908954</td>\n",
              "      <td>-0.729909</td>\n",
              "    </tr>\n",
              "    <tr>\n",
              "      <th>2</th>\n",
              "      <td>-0.015265</td>\n",
              "      <td>0.338330</td>\n",
              "      <td>2.030112</td>\n",
              "      <td>-0.546507</td>\n",
              "      <td>-0.573692</td>\n",
              "      <td>0.849884</td>\n",
              "      <td>-0.847250</td>\n",
              "      <td>-0.261518</td>\n",
              "      <td>1.419900</td>\n",
              "      <td>1.212941</td>\n",
              "      <td>...</td>\n",
              "      <td>-1.504403</td>\n",
              "      <td>1.015195</td>\n",
              "      <td>1.807229</td>\n",
              "      <td>-0.547771</td>\n",
              "      <td>-1.206350</td>\n",
              "      <td>-0.263123</td>\n",
              "      <td>-0.070188</td>\n",
              "      <td>0.578467</td>\n",
              "      <td>-0.532002</td>\n",
              "      <td>-0.631870</td>\n",
              "    </tr>\n",
              "    <tr>\n",
              "      <th>3</th>\n",
              "      <td>-2.200731</td>\n",
              "      <td>-0.142541</td>\n",
              "      <td>1.723447</td>\n",
              "      <td>2.069346</td>\n",
              "      <td>-0.960907</td>\n",
              "      <td>-1.512104</td>\n",
              "      <td>0.301093</td>\n",
              "      <td>0.373577</td>\n",
              "      <td>-0.270056</td>\n",
              "      <td>-0.418945</td>\n",
              "      <td>...</td>\n",
              "      <td>0.471832</td>\n",
              "      <td>1.699701</td>\n",
              "      <td>1.182216</td>\n",
              "      <td>0.826157</td>\n",
              "      <td>1.000774</td>\n",
              "      <td>0.542655</td>\n",
              "      <td>1.321967</td>\n",
              "      <td>1.633466</td>\n",
              "      <td>-0.724353</td>\n",
              "      <td>-0.873102</td>\n",
              "    </tr>\n",
              "    <tr>\n",
              "      <th>4</th>\n",
              "      <td>-1.795008</td>\n",
              "      <td>-0.172352</td>\n",
              "      <td>0.471080</td>\n",
              "      <td>0.270435</td>\n",
              "      <td>0.508237</td>\n",
              "      <td>1.244300</td>\n",
              "      <td>-0.870059</td>\n",
              "      <td>-0.415693</td>\n",
              "      <td>-0.147175</td>\n",
              "      <td>0.947797</td>\n",
              "      <td>...</td>\n",
              "      <td>-0.242724</td>\n",
              "      <td>0.995744</td>\n",
              "      <td>0.587422</td>\n",
              "      <td>0.265792</td>\n",
              "      <td>0.319560</td>\n",
              "      <td>0.573028</td>\n",
              "      <td>0.685460</td>\n",
              "      <td>0.765537</td>\n",
              "      <td>0.719814</td>\n",
              "      <td>0.777760</td>\n",
              "    </tr>\n",
              "  </tbody>\n",
              "</table>\n",
              "<p>5 rows × 227 columns</p>\n",
              "</div>"
            ],
            "text/plain": [
              "          0         1         2         3         4         5         6  \\\n",
              "0  5.164555 -0.327568  1.123069 -0.444437 -2.161426  5.357731 -1.941658   \n",
              "1 -2.332823  1.477081 -1.812966  2.134708 -1.792582 -2.223606 -1.894730   \n",
              "2 -0.015265  0.338330  2.030112 -0.546507 -0.573692  0.849884 -0.847250   \n",
              "3 -2.200731 -0.142541  1.723447  2.069346 -0.960907 -1.512104  0.301093   \n",
              "4 -1.795008 -0.172352  0.471080  0.270435  0.508237  1.244300 -0.870059   \n",
              "\n",
              "          7         8         9  ...       217       218       219       220  \\\n",
              "0 -1.788736 -1.102273 -0.528663  ...  1.588816 -0.344694  0.261842 -2.259023   \n",
              "1  0.659299 -0.542356  1.188546  ... -0.102691 -0.918362  0.955975  0.216920   \n",
              "2 -0.261518  1.419900  1.212941  ... -1.504403  1.015195  1.807229 -0.547771   \n",
              "3  0.373577 -0.270056 -0.418945  ...  0.471832  1.699701  1.182216  0.826157   \n",
              "4 -0.415693 -0.147175  0.947797  ... -0.242724  0.995744  0.587422  0.265792   \n",
              "\n",
              "        221       222       223       224       225       226  \n",
              "0  1.117969 -0.223322  0.852745  3.016013  2.970479  1.822108  \n",
              "1  1.411925  1.995161 -1.606540 -1.380560 -0.908954 -0.729909  \n",
              "2 -1.206350 -0.263123 -0.070188  0.578467 -0.532002 -0.631870  \n",
              "3  1.000774  0.542655  1.321967  1.633466 -0.724353 -0.873102  \n",
              "4  0.319560  0.573028  0.685460  0.765537  0.719814  0.777760  \n",
              "\n",
              "[5 rows x 227 columns]"
            ]
          },
          "execution_count": 148,
          "metadata": {},
          "output_type": "execute_result"
        }
      ]
    },
    {
      "cell_type": "code",
      "metadata": {
        "id": "fd478124",
        "outputId": "2cfc3a00-33b8-4e04-b92c-1f7dd9acc5ea"
      },
      "source": [
        "# hierarchical with pca\n",
        "from sklearn.cluster import AgglomerativeClustering\n",
        "clustering = AgglomerativeClustering().fit(pca)\n",
        "print(silhouette_score(pca,clustering.labels_))"
      ],
      "id": "fd478124",
      "execution_count": null,
      "outputs": [
        {
          "name": "stdout",
          "output_type": "stream",
          "text": [
            "0.3979420051565122\n"
          ]
        }
      ]
    },
    {
      "cell_type": "code",
      "metadata": {
        "id": "5e18b76c",
        "outputId": "a8b0f024-47e8-4e2d-d3b6-a58a87532a72"
      },
      "source": [
        "# kmeans with pca\n",
        "from sklearn.cluster import KMeans\n",
        "km = KMeans().fit(pca)\n",
        "print(silhouette_score(pca,km.labels_))"
      ],
      "id": "5e18b76c",
      "execution_count": null,
      "outputs": [
        {
          "name": "stdout",
          "output_type": "stream",
          "text": [
            "0.05161020666454102\n"
          ]
        }
      ]
    },
    {
      "cell_type": "code",
      "metadata": {
        "id": "461a4239",
        "outputId": "f1c8af91-99ae-4fd5-a31d-4df3dbefd993"
      },
      "source": [
        "# dbscan with pca\n",
        "from sklearn.preprocessing import StandardScaler, Normalizer, MinMaxScaler\n",
        "s = MinMaxScaler()\n",
        "pca_df = s.fit_transform(pca) \n",
        "print(silhouette_score(pca_df, DBSCAN(min_samples=4,eps=4).fit(pca_df).labels_))"
      ],
      "id": "461a4239",
      "execution_count": null,
      "outputs": [
        {
          "name": "stdout",
          "output_type": "stream",
          "text": [
            "-0.040297176104447205\n"
          ]
        }
      ]
    },
    {
      "cell_type": "code",
      "metadata": {
        "id": "91089a73"
      },
      "source": [
        ""
      ],
      "id": "91089a73",
      "execution_count": null,
      "outputs": []
    }
  ]
}